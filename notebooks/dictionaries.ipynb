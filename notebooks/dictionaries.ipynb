{
 "cells": [
  {
   "cell_type": "markdown",
   "id": "27b42a31-bce9-464a-8b8c-3b9fd0b264c1",
   "metadata": {},
   "source": [
    "## Travel Log table\n",
    "\n",
    "| Country | Cities Visited | Total visits |\n",
    "| --- | --- | --- |\n",
    "| France | Paris, Lille, Dijon | 12 |\n",
    "| Germany | Berline, Hamburg, Stuttgart | 5 |\n",
    "\n",
    "\n"
   ]
  },
  {
   "cell_type": "code",
   "execution_count": 18,
   "id": "d382b53f-a54f-4094-b0cf-93e81fa0c956",
   "metadata": {},
   "outputs": [
    {
     "name": "stdout",
     "output_type": "stream",
     "text": [
      "[{'country': 'France', 'cities_visited': ['Paris', 'Lille', 'Dijon'], 'total_visits': 12}, {'country': 'Germany', 'cities_visited': ['Berline', 'Hamburg', 'Stuttgart'], 'total_visits': 5}]\n"
     ]
    }
   ],
   "source": [
    "# nesting dictionary in a list\n",
    "\n",
    "travel_log = [\n",
    "    {\n",
    "      \"country\": \"France\"\n",
    "    , \"cities_visited\": [\"Paris\",\"Lille\",\"Dijon\"]\n",
    "    , \"total_visits\": 12 \n",
    "    },\n",
    "    {\n",
    "    \"country\": \"Germany\"\n",
    "    , \"cities_visited\": [\"Berline\",\"Hamburg\",\"Stuttgart\"]\n",
    "    , \"total_visits\": 5}\n",
    "]\n",
    "\n",
    "print(travel_log)"
   ]
  },
  {
   "cell_type": "code",
   "execution_count": 19,
   "id": "a12ab97e-2441-4c4b-94ca-78043ba30127",
   "metadata": {},
   "outputs": [
    {
     "name": "stdin",
     "output_type": "stream",
     "text": [
      " Iran\n",
      " 3\n",
      " [\"Tehran\",\"Ahvaz\",\"Shiraz\"]\n"
     ]
    }
   ],
   "source": [
    "country = input() # Add country name\n",
    "visits = int(input()) # Number of visits\n",
    "list_of_cities = eval(input()) # create list from formatted string"
   ]
  },
  {
   "cell_type": "code",
   "execution_count": 23,
   "id": "9a6fb945-faa5-48ce-ac1b-827998f41fd2",
   "metadata": {},
   "outputs": [],
   "source": [
    "def add_new_country(country_name, cities_visited, total_visits):\n",
    "    new_country = {}\n",
    "    new_country[\"country\"] = country_name\n",
    "    \n",
    "    new_country[\"cities_visited\"] = cities_visited\n",
    "    new_country[\"total_visits\"] = total_visits\n",
    "    travel_log.append(new_country)"
   ]
  },
  {
   "cell_type": "code",
   "execution_count": 24,
   "id": "3a16ede4-1fec-41f9-b761-502609e319db",
   "metadata": {},
   "outputs": [],
   "source": [
    "add_new_country(country,list_of_cities,visits)"
   ]
  },
  {
   "cell_type": "code",
   "execution_count": 25,
   "id": "28296e5c-52ce-449c-ae94-ee967f218692",
   "metadata": {},
   "outputs": [
    {
     "name": "stdout",
     "output_type": "stream",
     "text": [
      "[{'country': 'France', 'cities_visited': ['Paris', 'Lille', 'Dijon'], 'total_visits': 12}, {'country': 'Germany', 'cities_visited': ['Berline', 'Hamburg', 'Stuttgart'], 'total_visits': 5}, {'country': 'Iran', 'total_visits': 3, 'cities_visited': ['Tehran', 'Ahvaz', 'Shiraz']}, {'country': 'Iran', 'cities_visited': ['Tehran', 'Ahvaz', 'Shiraz'], 'total_visits': 3}]\n"
     ]
    }
   ],
   "source": [
    "print(travel_log)"
   ]
  }
 ],
 "metadata": {
  "kernelspec": {
   "display_name": "Python 3 (ipykernel)",
   "language": "python",
   "name": "python3"
  },
  "language_info": {
   "codemirror_mode": {
    "name": "ipython",
    "version": 3
   },
   "file_extension": ".py",
   "mimetype": "text/x-python",
   "name": "python",
   "nbconvert_exporter": "python",
   "pygments_lexer": "ipython3",
   "version": "3.12.1"
  }
 },
 "nbformat": 4,
 "nbformat_minor": 5
}
