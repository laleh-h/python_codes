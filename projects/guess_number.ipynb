{
 "cells": [
  {
   "cell_type": "code",
   "execution_count": 38,
   "id": "21ebcbd8-7f9e-4a1d-a72b-4d45614f6138",
   "metadata": {},
   "outputs": [],
   "source": [
    "import random\n",
    "from art import guess_number_logo"
   ]
  },
  {
   "cell_type": "code",
   "execution_count": null,
   "id": "290351cf-28f8-4af3-9c51-a176fc7777d5",
   "metadata": {},
   "outputs": [
    {
     "name": "stdout",
     "output_type": "stream",
     "text": [
      "\n",
      " _______           _______  _______  _______    _                 _______  ______   _______  _______ \n",
      "(  ____ \\|\\     /|(  ____ \\(  ____ \\(  ____ \\  ( (    /||\\     /|(       )(  ___ \\ (  ____ \\(  ____ )\n",
      "| (    \\/| )   ( || (    \\/| (    \\/| (    \\/  |  \\  ( || )   ( || () () || (   ) )| (    \\/| (    )|\n",
      "| |      | |   | || (__    | (_____ | (_____   |   \\ | || |   | || || || || (__/ / | (__    | (____)|\n",
      "| | ____ | |   | ||  __)   (_____  )(_____  )  | (\\ \\) || |   | || |(_)| ||  __ (  |  __)   |     __)\n",
      "| | \\_  )| |   | || (            ) |      ) |  | | \\   || |   | || |   | || (  \\ \\ | (      | (\\ (   \n",
      "| (___) || (___) || (____/\\/\\____) |/\\____) |  | )  \\  || (___) || )   ( || )___) )| (____/\\| ) \\ \\__\n",
      "(_______)(_______)(_______/\\_______)\\_______)  |/    )_)(_______)|/     \\||/ \\___/ (_______/|/   \\__/\n",
      "                                                                                                     \n",
      "Welcome to the gussing number program.\n",
      "\n"
     ]
    },
    {
     "name": "stdin",
     "output_type": "stream",
     "text": [
      "Choose a difficulty. Type 'easy' or 'hard':  easy\n"
     ]
    },
    {
     "name": "stdout",
     "output_type": "stream",
     "text": [
      "You have 10 attempts\n"
     ]
    },
    {
     "name": "stdin",
     "output_type": "stream",
     "text": [
      "Make a guess:  50\n"
     ]
    },
    {
     "name": "stdout",
     "output_type": "stream",
     "text": [
      "Too low!You have 9 attempts remaining to guess the number.\n"
     ]
    },
    {
     "name": "stdin",
     "output_type": "stream",
     "text": [
      "Make a guess:  80\n"
     ]
    },
    {
     "name": "stdout",
     "output_type": "stream",
     "text": [
      "Too high!You have 8 attempts remaining to guess the number.\n"
     ]
    },
    {
     "name": "stdin",
     "output_type": "stream",
     "text": [
      "Make a guess:  70\n"
     ]
    },
    {
     "name": "stdout",
     "output_type": "stream",
     "text": [
      "Too high!You have 7 attempts remaining to guess the number.\n"
     ]
    },
    {
     "name": "stdin",
     "output_type": "stream",
     "text": [
      "Make a guess:  60\n"
     ]
    },
    {
     "name": "stdout",
     "output_type": "stream",
     "text": [
      "Too high!You have 6 attempts remaining to guess the number.\n"
     ]
    },
    {
     "name": "stdin",
     "output_type": "stream",
     "text": [
      "Make a guess:  55\n"
     ]
    },
    {
     "name": "stdout",
     "output_type": "stream",
     "text": [
      "Too high!You have 5 attempts remaining to guess the number.\n"
     ]
    },
    {
     "name": "stdin",
     "output_type": "stream",
     "text": [
      "Make a guess:  54\n"
     ]
    },
    {
     "name": "stdout",
     "output_type": "stream",
     "text": [
      "You won!\n"
     ]
    },
    {
     "name": "stdin",
     "output_type": "stream",
     "text": [
      "Do you want to play a fresh gussing game? Type 'y' or 'n':  y\n"
     ]
    },
    {
     "name": "stdout",
     "output_type": "stream",
     "text": [
      "\n",
      " _______           _______  _______  _______    _                 _______  ______   _______  _______ \n",
      "(  ____ \\|\\     /|(  ____ \\(  ____ \\(  ____ \\  ( (    /||\\     /|(       )(  ___ \\ (  ____ \\(  ____ )\n",
      "| (    \\/| )   ( || (    \\/| (    \\/| (    \\/  |  \\  ( || )   ( || () () || (   ) )| (    \\/| (    )|\n",
      "| |      | |   | || (__    | (_____ | (_____   |   \\ | || |   | || || || || (__/ / | (__    | (____)|\n",
      "| | ____ | |   | ||  __)   (_____  )(_____  )  | (\\ \\) || |   | || |(_)| ||  __ (  |  __)   |     __)\n",
      "| | \\_  )| |   | || (            ) |      ) |  | | \\   || |   | || |   | || (  \\ \\ | (      | (\\ (   \n",
      "| (___) || (___) || (____/\\/\\____) |/\\____) |  | )  \\  || (___) || )   ( || )___) )| (____/\\| ) \\ \\__\n",
      "(_______)(_______)(_______/\\_______)\\_______)  |/    )_)(_______)|/     \\||/ \\___/ (_______/|/   \\__/\n",
      "                                                                                                     \n",
      "Welcome to the gussing number program.\n",
      "\n"
     ]
    },
    {
     "name": "stdin",
     "output_type": "stream",
     "text": [
      "Choose a difficulty. Type 'easy' or 'hard':  hard\n"
     ]
    },
    {
     "name": "stdout",
     "output_type": "stream",
     "text": [
      "You have 5 attempts\n"
     ]
    },
    {
     "name": "stdin",
     "output_type": "stream",
     "text": [
      "Make a guess:  50\n"
     ]
    },
    {
     "name": "stdout",
     "output_type": "stream",
     "text": [
      "Too low!You have 4 attempts remaining to guess the number.\n"
     ]
    },
    {
     "name": "stdin",
     "output_type": "stream",
     "text": [
      "Make a guess:  60\n"
     ]
    },
    {
     "name": "stdout",
     "output_type": "stream",
     "text": [
      "Too low!You have 3 attempts remaining to guess the number.\n"
     ]
    },
    {
     "name": "stdin",
     "output_type": "stream",
     "text": [
      "Make a guess:  80\n"
     ]
    },
    {
     "name": "stdout",
     "output_type": "stream",
     "text": [
      "Too low!You have 2 attempts remaining to guess the number.\n"
     ]
    },
    {
     "name": "stdin",
     "output_type": "stream",
     "text": [
      "Make a guess:  90\n"
     ]
    },
    {
     "name": "stdout",
     "output_type": "stream",
     "text": [
      "You won!\n"
     ]
    }
   ],
   "source": [
    "def guess_number():\n",
    "    \"\"\"\n",
    "    a game for guessing a random number between 1 & 100\n",
    "    \"\"\"\n",
    "    print(guess_number_logo)\n",
    "    random_number = random.randint(1,100)\n",
    "    is_game_over = False\n",
    "    difficulty_levels = {'easy': 10,'hard': 5}\n",
    "\n",
    "    while not is_game_over:\n",
    "        user_preference = input(\"Choose a difficulty. Type 'easy' or 'hard': \") \n",
    "        if user_preference == 'easy':\n",
    "            print(\"You have 10 attempts\")\n",
    "            for attempt in range(10):\n",
    "                gussed_number = int(input(\"Make a guess: \"))\n",
    "                if gussed_number > random_number and 9-attempt != 0:\n",
    "                    print(f\"Too high!You have {9-attempt} attempts remaining to guess the number.\")\n",
    "                elif gussed_number < random_number and 9-attempt != 0:\n",
    "                    print(f\"Too low!You have {9-attempt} attempts remaining to guess the number.\")\n",
    "                elif gussed_number == random_number and 9-attempt != 0:\n",
    "                    print(\"You won!\")\n",
    "                    is_game_over = True\n",
    "                    if input(\"Do you want to play a fresh gussing game? Type 'y' or 'n': \") == 'y':\n",
    "                        guess_number()\n",
    "                elif 9-attempt == 0 and gussed_number != random_number:\n",
    "                    print(f\"You lost! The correct number is {random_number}.\") \n",
    "                    is_game_over = True\n",
    "                    if input(\"Do you want to play a fresh gussing game? Type 'y' or 'n': \") == 'y':\n",
    "                        guess_number()\n",
    "                else:\n",
    "                    is_game_over = True\n",
    "                    if input(\"Do you want to play a fresh gussing game? Type 'y' or 'n': \") == 'y':\n",
    "                        guess_number()\n",
    "        \n",
    "        \n",
    "        if user_preference == 'hard':\n",
    "            print(\"You have 5 attempts\")\n",
    "            for attempt in range(5):\n",
    "                gussed_number = int(input(\"Make a guess: \"))\n",
    "                if gussed_number > random_number and 4-attempt != 0:\n",
    "                    print(f\"Too high!You have {4-attempt} attempts remaining to guess the number.\")\n",
    "                elif gussed_number < random_number and 4-attempt != 0:\n",
    "                    print(f\"Too low!You have {4-attempt} attempts remaining to guess the number.\")\n",
    "                elif gussed_number == random_number and 4-attempt != 0:\n",
    "                    print(\"You won!\")\n",
    "                    is_game_over = True\n",
    "                    if input(\"Do you want to play a fresh gussing game? Type 'y' or 'n': \") == 'y':\n",
    "                        guess_number()\n",
    "                elif 4-attempt == 0 and gussed_number != random_number:\n",
    "                    print(f\"You lost! The correct number is {random_number}.\") \n",
    "                    is_game_over = True\n",
    "                    if input(\"Do you want to play a fresh gussing game? Type 'y' or 'n': \") == 'y':\n",
    "                        guess_number()\n",
    "                else:\n",
    "                    is_game_over = True\n",
    "                    if input(\"Do you want to play a fresh gussing game? Type 'y' or 'n': \") == 'y':\n",
    "                        guess_number()\n",
    "\n",
    "guess_number()"
   ]
  },
  {
   "cell_type": "code",
   "execution_count": null,
   "id": "3e63145d-d8b6-4eee-84d2-a197922aab22",
   "metadata": {},
   "outputs": [],
   "source": []
  }
 ],
 "metadata": {
  "kernelspec": {
   "display_name": "Python 3 (ipykernel)",
   "language": "python",
   "name": "python3"
  },
  "language_info": {
   "codemirror_mode": {
    "name": "ipython",
    "version": 3
   },
   "file_extension": ".py",
   "mimetype": "text/x-python",
   "name": "python",
   "nbconvert_exporter": "python",
   "pygments_lexer": "ipython3",
   "version": "3.12.1"
  }
 },
 "nbformat": 4,
 "nbformat_minor": 5
}
