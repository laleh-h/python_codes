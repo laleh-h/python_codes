{
 "cells": [
  {
   "cell_type": "code",
   "execution_count": 6,
   "id": "7abfc582-01c7-4dbb-ade1-9e70ce618b57",
   "metadata": {},
   "outputs": [
    {
     "name": "stdout",
     "output_type": "stream",
     "text": [
      "\n",
      "                         ___________\n",
      "                         \\         /\n",
      "                          )_______(\n",
      "                          |\"\"\"\"\"\"\"|_.-._,.---------.,_.-._\n",
      "                          |       | | |               | | ''-.\n",
      "                          |       |_| |_             _| |_..-'\n",
      "                          |_______| '-' `'---------'` '-'\n",
      "                          )\"\"\"\"\"\"\"(\n",
      "                         /_________\\\n",
      "                       .-------------.\n",
      "                      /_______________\\\n",
      "\n"
     ]
    }
   ],
   "source": [
    "from art import auction_logo\n",
    "print(auction_logo)"
   ]
  },
  {
   "cell_type": "code",
   "execution_count": 5,
   "id": "9595db8d-907e-4b39-9a89-425e005d4c43",
   "metadata": {},
   "outputs": [
    {
     "name": "stderr",
     "output_type": "stream",
     "text": [
      "sh: cls: command not found\n"
     ]
    },
    {
     "data": {
      "text/plain": [
       "32512"
      ]
     },
     "execution_count": 5,
     "metadata": {},
     "output_type": "execute_result"
    }
   ],
   "source": [
    "import os\n",
    " \n",
    "# Clearing the Screen\n",
    "os.system('cls')"
   ]
  },
  {
   "cell_type": "code",
   "execution_count": 39,
   "id": "df2e0fe5-9c20-4657-94ee-58b725b3db39",
   "metadata": {},
   "outputs": [],
   "source": [
    "def highest_bidder(bids_table):\n",
    "    highest_bid = 0\n",
    "    winner = \"\"\n",
    "    for bidder in bids_table:\n",
    "        bid_amount = bids_table[bidder] \n",
    "        if bid_amount > highest_bid:\n",
    "            highest_bid = bid_amount\n",
    "            winner = bidder\n",
    "    print(f\"The winner is {winner} with a bid of ${highest_bid}\")"
   ]
  },
  {
   "cell_type": "code",
   "execution_count": 44,
   "id": "d0888b78-518a-49bd-b20b-a4e154292fe4",
   "metadata": {},
   "outputs": [
    {
     "name": "stdout",
     "output_type": "stream",
     "text": [
      "\n",
      "                         ___________\n",
      "                         \\         /\n",
      "                          )_______(\n",
      "                          |\"\"\"\"\"\"\"|_.-._,.---------.,_.-._\n",
      "                          |       | | |               | | ''-.\n",
      "                          |       |_| |_             _| |_..-'\n",
      "                          |_______| '-' `'---------'` '-'\n",
      "                          )\"\"\"\"\"\"\"(\n",
      "                         /_________\\\n",
      "                       .-------------.\n",
      "                      /_______________\\\n",
      "\n"
     ]
    },
    {
     "name": "stdin",
     "output_type": "stream",
     "text": [
      "What's your name? Paul\n",
      "What's your bid? $ 330\n",
      "Are there any other bidders? Type 'yes'or 'no'. yes\n"
     ]
    },
    {
     "name": "stdout",
     "output_type": "stream",
     "text": [
      "Clear screen\n"
     ]
    },
    {
     "name": "stdin",
     "output_type": "stream",
     "text": [
      "What's your name? Amy\n",
      "What's your bid? $ 250\n",
      "Are there any other bidders? Type 'yes'or 'no'. yes\n"
     ]
    },
    {
     "name": "stdout",
     "output_type": "stream",
     "text": [
      "Clear screen\n"
     ]
    },
    {
     "name": "stdin",
     "output_type": "stream",
     "text": [
      "What's your name? Jackie\n",
      "What's your bid? $ 680\n",
      "Are there any other bidders? Type 'yes'or 'no'. no\n"
     ]
    },
    {
     "name": "stdout",
     "output_type": "stream",
     "text": [
      "Clear screen\n",
      "Clear screen\n",
      "{'Paul': 330, 'Amy': 250, 'Jackie': 680}\n"
     ]
    }
   ],
   "source": [
    "# Run the cipher program\n",
    "print(auction_logo)\n",
    "other_bidders = True\n",
    "bids = {}\n",
    "\n",
    "while other_bidders:\n",
    "    \n",
    "    name = input(\"What's your name?\")\n",
    "    amount = int(input(\"What's your bid? $\"))\n",
    "    other_bidders = input(\"Are there any other bidders? Type 'yes'or 'no'.\")\n",
    "    print(\"Clear screen\")\n",
    "    bids[name] = amount\n",
    "    \n",
    "\n",
    "    # make the program repeatable in the same round\n",
    "    if other_bidders == \"no\":\n",
    "        other_bidders = False\n",
    "        print(\"Clear screen\")\n",
    "\n",
    "print(bids)"
   ]
  },
  {
   "cell_type": "code",
   "execution_count": 45,
   "id": "6fb877e1-327b-4da9-832b-d15cb89215ee",
   "metadata": {},
   "outputs": [
    {
     "name": "stdout",
     "output_type": "stream",
     "text": [
      "The winner is Jackie with a bid of $680\n"
     ]
    }
   ],
   "source": [
    "highest_bidder(bids)"
   ]
  }
 ],
 "metadata": {
  "kernelspec": {
   "display_name": "Python 3 (ipykernel)",
   "language": "python",
   "name": "python3"
  },
  "language_info": {
   "codemirror_mode": {
    "name": "ipython",
    "version": 3
   },
   "file_extension": ".py",
   "mimetype": "text/x-python",
   "name": "python",
   "nbconvert_exporter": "python",
   "pygments_lexer": "ipython3",
   "version": "3.12.1"
  }
 },
 "nbformat": 4,
 "nbformat_minor": 5
}
