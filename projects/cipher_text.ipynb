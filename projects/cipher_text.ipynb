{
 "cells": [
  {
   "cell_type": "markdown",
   "id": "752d8ddb-4411-498a-8f69-83fedc6193f3",
   "metadata": {},
   "source": [
    "# Cipher Text Generation"
   ]
  },
  {
   "cell_type": "markdown",
   "id": "a8a6dabc-eacb-4f59-a9c8-e6e337cc8faf",
   "metadata": {},
   "source": [
    "### decoding a piece of text by shifting each letter of the alphabel by certain amount."
   ]
  },
  {
   "cell_type": "code",
   "execution_count": 3,
   "id": "eb2521ed-1bb1-4139-8860-54532e5ca79e",
   "metadata": {},
   "outputs": [
    {
     "name": "stdin",
     "output_type": "stream",
     "text": [
      "Type your message:\n",
      " I am practicing the Python string functions\n",
      "Type the shift number:\n",
      " 6\n"
     ]
    },
    {
     "name": "stdout",
     "output_type": "stream",
     "text": [
      "The encoded text is: o gs vxgizoiotm znk veznut yzxotm latizouty\n"
     ]
    }
   ],
   "source": [
    "alphabet = ['a', 'b', 'c', 'd', 'e', 'f', 'g', 'h', 'i', 'j', 'k', 'l', 'm', 'n', 'o', 'p', 'q', 'r', 's', 't', 'u', 'v', 'w', 'x', 'y', 'z', 'a', 'b', 'c', 'd', 'e', 'f', 'g', 'h', 'i', 'j', 'k', 'l', 'm', 'n', 'o', 'p', 'q', 'r', 's', 't', 'u', 'v', 'w', 'x', 'y', 'z']\n",
    "\n",
    "text = input(\"Type your message:\\n\").lower()\n",
    "shift = int(input(\"Type the shift number:\\n\"))\n",
    "\n",
    "\n",
    "def encrypt(plain_text, shift_amount):\n",
    "  # empty string for the cipher text\n",
    "  cipher_text = \"\" \n",
    "\n",
    "  # iterate through all the letters in the plain text\n",
    "  for letter in plain_text:\n",
    "    if letter != \" \": # check if the letter is not a space\n",
    "      position = alphabet.index(letter) # find out the position of the letter in the alphabet\n",
    "      new_letter = alphabet[position + shift_amount] # find out the new letter by adding the shift amount\n",
    "      cipher_text += new_letter # add the new letter to the cipher text\n",
    "    else: # if the letter is a space, add a space to the cipher text\n",
    "      cipher_text += \" \"\n",
    "  print(f\"The encoded text is: {cipher_text}\")\n",
    "\n",
    "encrypt(text, shift)"
   ]
  }
 ],
 "metadata": {
  "kernelspec": {
   "display_name": "Python 3 (ipykernel)",
   "language": "python",
   "name": "python3"
  },
  "language_info": {
   "codemirror_mode": {
    "name": "ipython",
    "version": 3
   },
   "file_extension": ".py",
   "mimetype": "text/x-python",
   "name": "python",
   "nbconvert_exporter": "python",
   "pygments_lexer": "ipython3",
   "version": "3.12.1"
  }
 },
 "nbformat": 4,
 "nbformat_minor": 5
}
