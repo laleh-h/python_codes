{
 "cells": [
  {
   "cell_type": "markdown",
   "id": "752d8ddb-4411-498a-8f69-83fedc6193f3",
   "metadata": {},
   "source": [
    "# Cipher Text Generation"
   ]
  },
  {
   "cell_type": "markdown",
   "id": "a8a6dabc-eacb-4f59-a9c8-e6e337cc8faf",
   "metadata": {},
   "source": [
    "### decoding a piece of text by shifting each letter of the alphabel by certain amount."
   ]
  },
  {
   "cell_type": "code",
   "execution_count": 57,
   "id": "f2c65cff-773c-4b89-bb5b-33c334aee431",
   "metadata": {},
   "outputs": [],
   "source": [
    "from caesar_logo import logo"
   ]
  },
  {
   "cell_type": "code",
   "execution_count": 58,
   "id": "9497740e-a997-4e02-96ff-2e6c75869cdf",
   "metadata": {},
   "outputs": [],
   "source": [
    "def caesar(input_text, shift_amount, cipher_direction):\n",
    "    output_text = \"\"\n",
    "    if cipher_direction == \"decode\":   \n",
    "                shift_amount *= -1\n",
    "    for char in input_text:\n",
    "        if char in alphabet: # check if the letter is not a space\n",
    "            position = alphabet.index(char)\n",
    "            new_position = position + shift_amount\n",
    "            output_text += alphabet[new_position]\n",
    "        else:\n",
    "            output_text += char\n",
    "    print(f\"The {cipher_direction}d text is: {output_text}\")"
   ]
  },
  {
   "cell_type": "code",
   "execution_count": 59,
   "id": "827ca4b3-6275-497a-acf9-e4489bf9c9ba",
   "metadata": {},
   "outputs": [
    {
     "name": "stdout",
     "output_type": "stream",
     "text": [
      "           \n",
      " ,adPPYba, ,adPPYYba,  ,adPPYba, ,adPPYba, ,adPPYYba, 8b,dPPYba,  \n",
      "a8\"     \"\" \"\"     `Y8 a8P_____88 I8[    \"\" \"\"     `Y8 88P'   \"Y8  \n",
      "8b         ,adPPPPP88 8PP\"  `\"Y8ba,  ,adPPPPP88 88          \n",
      "\"8a,   ,aa 88,    ,88 \"8b,   ,aa aa    ]8I 88,    ,88 88          \n",
      " `\"Ybbd8\"' `\"8bbdP\"Y8  `\"Ybbd8\"' `\"YbbdP\"' `\"8bbdP\"Y8 88   \n",
      "            88             88                                 \n",
      "           \"\"             88                                 \n",
      "                          88                                 \n",
      " ,adPPYba, 88 8b,dPPYba,  88,dPPYba,   ,adPPYba, 8b,dPPYba,  \n",
      "a8\"     \"\" 88 88P'    \"8a 88P'    \"8a a8P_____88 88P'   \"Y8  \n",
      "8b         88 88       d8 88       88 8PP\" 88          \n",
      "\"8a,   ,aa 88 88b,   ,a8\" 88       88 \"8b,   ,aa 88          \n",
      " `\"Ybbd8\"' 88 88`YbbdP\"'  88       88  `\"Ybbd8\"' 88          \n",
      "              88                                             \n",
      "              88           \n",
      "\n"
     ]
    },
    {
     "name": "stdin",
     "output_type": "stream",
     "text": [
      "Type 'encode' to encrypt, type 'decode' to decrypt:\n",
      " encode\n",
      "Type your message:\n",
      " Meet me at 14:25 tomorrow at the Kings Cross station!\n",
      "Type the shift number:\n",
      " 4\n"
     ]
    },
    {
     "name": "stdout",
     "output_type": "stream",
     "text": [
      "The encoded text is: qiix qi ex 14:25 xsqsvvsa ex xli omrkw gvsww wxexmsr!\n"
     ]
    },
    {
     "name": "stdin",
     "output_type": "stream",
     "text": [
      "Would you like to go anaign? Type 'Y' for Yes or 'N' for No. Y\n"
     ]
    },
    {
     "name": "stdout",
     "output_type": "stream",
     "text": [
      "           \n",
      " ,adPPYba, ,adPPYYba,  ,adPPYba, ,adPPYba, ,adPPYYba, 8b,dPPYba,  \n",
      "a8\"     \"\" \"\"     `Y8 a8P_____88 I8[    \"\" \"\"     `Y8 88P'   \"Y8  \n",
      "8b         ,adPPPPP88 8PP\"  `\"Y8ba,  ,adPPPPP88 88          \n",
      "\"8a,   ,aa 88,    ,88 \"8b,   ,aa aa    ]8I 88,    ,88 88          \n",
      " `\"Ybbd8\"' `\"8bbdP\"Y8  `\"Ybbd8\"' `\"YbbdP\"' `\"8bbdP\"Y8 88   \n",
      "            88             88                                 \n",
      "           \"\"             88                                 \n",
      "                          88                                 \n",
      " ,adPPYba, 88 8b,dPPYba,  88,dPPYba,   ,adPPYba, 8b,dPPYba,  \n",
      "a8\"     \"\" 88 88P'    \"8a 88P'    \"8a a8P_____88 88P'   \"Y8  \n",
      "8b         88 88       d8 88       88 8PP\" 88          \n",
      "\"8a,   ,aa 88 88b,   ,a8\" 88       88 \"8b,   ,aa 88          \n",
      " `\"Ybbd8\"' 88 88`YbbdP\"'  88       88  `\"Ybbd8\"' 88          \n",
      "              88                                             \n",
      "              88           \n",
      "\n"
     ]
    },
    {
     "name": "stdin",
     "output_type": "stream",
     "text": [
      "Type 'encode' to encrypt, type 'decode' to decrypt:\n",
      " decode\n",
      "Type your message:\n",
      " qiix qi ex 14:25 xsqsvvsa ex xli omrkw gvsww wxexmsr!\n",
      "Type the shift number:\n",
      " 4\n"
     ]
    },
    {
     "name": "stdout",
     "output_type": "stream",
     "text": [
      "The decoded text is: meet me at 14:25 tomorrow at the kings cross station!\n"
     ]
    },
    {
     "name": "stdin",
     "output_type": "stream",
     "text": [
      "Would you like to go anaign? Type 'Y' for Yes or 'N' for No. N\n"
     ]
    },
    {
     "name": "stdout",
     "output_type": "stream",
     "text": [
      "Goodbye!\n"
     ]
    }
   ],
   "source": [
    "# Run the cipher program\n",
    "\n",
    "should_continue = True\n",
    "\n",
    "while should_continue:\n",
    "    alphabet = ['a', 'b', 'c', 'd', 'e', 'f', 'g', 'h', 'i', 'j', 'k', 'l', 'm', 'n', 'o', 'p', 'q', 'r', 's', 't', 'u', 'v', 'w', 'x', 'y', 'z', 'a', 'b', 'c', 'd', 'e', 'f', 'g', 'h', 'i', 'j', 'k', 'l', 'm', 'n', 'o', 'p', 'q', 'r', 's', 't', 'u', 'v', 'w', 'x', 'y', 'z']\n",
    "    print(logo)\n",
    "    direction = input(\"Type 'encode' to encrypt, type 'decode' to decrypt:\\n\")\n",
    "    text = input(\"Type your message:\\n\").lower()\n",
    "    shift = int(input(\"Type the shift number:\\n\"))\n",
    "    \n",
    "    shift = shift % 26 # for out of range shift enteries to limit it to 26 characters in alphabet\n",
    "    caesar(text, shift, direction)\n",
    "\n",
    "    # make the program repeatable in the same round\n",
    "    user_continue = input(\"Would you like to go anaign? Type 'Y' for Yes or 'N' for No.\")\n",
    "    if user_continue == \"N\":\n",
    "        should_continue = False\n",
    "        print(\"Goodbye!\")\n",
    "    "
   ]
  }
 ],
 "metadata": {
  "kernelspec": {
   "display_name": "Python 3 (ipykernel)",
   "language": "python",
   "name": "python3"
  },
  "language_info": {
   "codemirror_mode": {
    "name": "ipython",
    "version": 3
   },
   "file_extension": ".py",
   "mimetype": "text/x-python",
   "name": "python",
   "nbconvert_exporter": "python",
   "pygments_lexer": "ipython3",
   "version": "3.12.1"
  }
 },
 "nbformat": 4,
 "nbformat_minor": 5
}
