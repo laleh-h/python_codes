{
 "cells": [
  {
   "cell_type": "markdown",
   "id": "752d8ddb-4411-498a-8f69-83fedc6193f3",
   "metadata": {},
   "source": [
    "# Cipher Text Generation"
   ]
  },
  {
   "cell_type": "markdown",
   "id": "a8a6dabc-eacb-4f59-a9c8-e6e337cc8faf",
   "metadata": {},
   "source": [
    "### decoding a piece of text by shifting each letter of the alphabel by certain amount."
   ]
  },
  {
   "cell_type": "code",
   "execution_count": 28,
   "id": "eb2521ed-1bb1-4139-8860-54532e5ca79e",
   "metadata": {},
   "outputs": [
    {
     "name": "stdin",
     "output_type": "stream",
     "text": [
      "Type 'encode' to encrypt, type 'decode' to decrypt:\n",
      " decode\n",
      "Type your message:\n",
      " l dp sudfwlflqj sbwkrq vwulqj ixqfwlrqv\n",
      "Type the shift number:\n",
      " 3\n"
     ]
    }
   ],
   "source": [
    "alphabet = ['a', 'b', 'c', 'd', 'e', 'f', 'g', 'h', 'i', 'j', 'k', 'l', 'm', 'n', 'o', 'p', 'q', 'r', 's', 't', 'u', 'v', 'w', 'x', 'y', 'z', 'a', 'b', 'c', 'd', 'e', 'f', 'g', 'h', 'i', 'j', 'k', 'l', 'm', 'n', 'o', 'p', 'q', 'r', 's', 't', 'u', 'v', 'w', 'x', 'y', 'z']\n",
    "direction = input(\"Type 'encode' to encrypt, type 'decode' to decrypt:\\n\")\n",
    "text = input(\"Type your message:\\n\").lower()\n",
    "shift = int(input(\"Type the shift number:\\n\"))\n"
   ]
  },
  {
   "cell_type": "code",
   "execution_count": 2,
   "id": "91057e37-740a-490d-a5b5-dfb3f04f3ec8",
   "metadata": {},
   "outputs": [],
   "source": [
    "def encrypt(plain_text, shift_amount):\n",
    "  # empty string for the cipher text\n",
    "  cipher_text = \"\" \n",
    "\n",
    "  # iterate through all the letters in the plain text\n",
    "  for letter in plain_text:\n",
    "    if letter != \" \": # check if the letter is not a space\n",
    "      position = alphabet.index(letter) # find out the position of the letter in the alphabet\n",
    "      new_letter = alphabet[position + shift_amount] # find out the new letter by adding the shift amount\n",
    "      cipher_text += new_letter # add the new letter to the cipher text\n",
    "    else: # if the letter is a space, add a space to the cipher text\n",
    "      cipher_text += \" \"\n",
    "  return cipher_text\n",
    "  "
   ]
  },
  {
   "cell_type": "code",
   "execution_count": 3,
   "id": "a99bf5fb-0525-4a89-8b2b-99c3b96c4b1f",
   "metadata": {},
   "outputs": [],
   "source": [
    "def decrypt(cipher_text, shift_amount):\n",
    "  # empty string for the descrypted text\n",
    "  decrypted_text = \"\" \n",
    "\n",
    "  # iterate through all the letters in the plain text\n",
    "  for letter in cipher_text:\n",
    "    if letter != \" \": # check if the letter is not a space\n",
    "      position = alphabet.index(letter) # find out the position of the letter in the alphabet\n",
    "      new_letter = alphabet[position - shift_amount] # find out the new letter by subtracting the shift amount\n",
    "      decrypted_text += new_letter # add the new letter to the decrypted text\n",
    "    else: # if the letter is a space, add a space to the cipher text\n",
    "      decrypted_text += \" \"\n",
    "  return decrypted_text\n"
   ]
  },
  {
   "cell_type": "code",
   "execution_count": 4,
   "id": "2cd1c394-5cb8-48d0-9bd3-b3966e23343e",
   "metadata": {},
   "outputs": [
    {
     "name": "stdout",
     "output_type": "stream",
     "text": [
      "The encoded text is: m tvegxmgi tcxlsr wxvmrk jyrgxmsrw\n"
     ]
    }
   ],
   "source": [
    "# run the program\n",
    "\n",
    "if direction == \"encode\":\n",
    "    cipher_text = encrypt(text, shift)\n",
    "    print(f\"The encoded text is: {cipher_text}\")\n",
    "else:\n",
    "    decrypted_text = decrypt(cipher_text, shift)\n",
    "    print(f\"The decrypted text is: {decrypted_text}\") \n"
   ]
  },
  {
   "cell_type": "code",
   "execution_count": 5,
   "id": "a3f90bce-d046-4477-a368-d21a7e0bfe70",
   "metadata": {},
   "outputs": [
    {
     "name": "stdin",
     "output_type": "stream",
     "text": [
      "Type 'encode' to encrypt, type 'decode' to decrypt:\n",
      " decode\n"
     ]
    }
   ],
   "source": [
    "direction = input(\"Type 'encode' to encrypt, type 'decode' to decrypt:\\n\")"
   ]
  },
  {
   "cell_type": "code",
   "execution_count": 6,
   "id": "e47bcd11-3325-40a4-bd52-f833508063cf",
   "metadata": {},
   "outputs": [
    {
     "name": "stdout",
     "output_type": "stream",
     "text": [
      "The decrypted text is: i practice python string functions\n"
     ]
    }
   ],
   "source": [
    "# run the program\n",
    "\n",
    "if direction == \"encode\":\n",
    "    cipher_text = encrypt(text, shift)\n",
    "    print(f\"The encoded text is: {cipher_text}\")\n",
    "else:\n",
    "    decrypted_text = decrypt(cipher_text, shift)\n",
    "    print(f\"The decrypted text is: {decrypted_text}\") \n"
   ]
  },
  {
   "cell_type": "code",
   "execution_count": 30,
   "id": "9497740e-a997-4e02-96ff-2e6c75869cdf",
   "metadata": {},
   "outputs": [],
   "source": [
    "def ceaser(input_text, shift_amount, cipher_direction):\n",
    "    output_text = \"\"\n",
    "    if cipher_direction == \"decode\":   \n",
    "                shift_amount *= -1\n",
    "    for letter in input_text:\n",
    "        if letter != \" \": # check if the letter is not a space\n",
    "            position = alphabet.index(letter)\n",
    "            new_position = position + shift_amount\n",
    "            output_text += alphabet[new_position]\n",
    "        else:\n",
    "            output_text += \" \"\n",
    "    print(f\"The {cipher_direction}d text is: {output_text}\")"
   ]
  },
  {
   "cell_type": "code",
   "execution_count": 31,
   "id": "827ca4b3-6275-497a-acf9-e4489bf9c9ba",
   "metadata": {},
   "outputs": [
    {
     "name": "stdout",
     "output_type": "stream",
     "text": [
      "The decoded text is: i am practicing python string functions\n"
     ]
    }
   ],
   "source": [
    "ceaser(text, shift, direction)"
   ]
  }
 ],
 "metadata": {
  "kernelspec": {
   "display_name": "Python 3 (ipykernel)",
   "language": "python",
   "name": "python3"
  },
  "language_info": {
   "codemirror_mode": {
    "name": "ipython",
    "version": 3
   },
   "file_extension": ".py",
   "mimetype": "text/x-python",
   "name": "python",
   "nbconvert_exporter": "python",
   "pygments_lexer": "ipython3",
   "version": "3.12.1"
  }
 },
 "nbformat": 4,
 "nbformat_minor": 5
}
